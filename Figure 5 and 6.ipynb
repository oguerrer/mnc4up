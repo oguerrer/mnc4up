{
 "cells": [
  {
   "cell_type": "markdown",
   "metadata": {},
   "source": [
    "# Figures 5 and 6"
   ]
  },
  {
   "cell_type": "code",
   "execution_count": 22,
   "metadata": {
    "collapsed": false
   },
   "outputs": [],
   "source": [
    "from __future__ import division\n",
    "import warnings\n",
    "warnings.filterwarnings('ignore')\n",
    "import networkx as nx\n",
    "import numpy as np\n",
    "import random as rd\n",
    "import matplotlib.pyplot as plt\n",
    "import scipy.stats as st\n",
    "%matplotlib inline"
   ]
  },
  {
   "cell_type": "markdown",
   "metadata": {},
   "source": [
    "## Global parameters"
   ]
  },
  {
   "cell_type": "code",
   "execution_count": 23,
   "metadata": {
    "collapsed": true
   },
   "outputs": [],
   "source": [
    "N = 500 # number of firms\n",
    "H = N*20 # number of workers\n",
    "Lambda = .02 # separation rate\n",
    "sampleSize = 500 # last periods to sample"
   ]
  },
  {
   "cell_type": "markdown",
   "metadata": {},
   "source": [
    "## Useful functions"
   ]
  },
  {
   "cell_type": "code",
   "execution_count": 24,
   "metadata": {
    "collapsed": false
   },
   "outputs": [],
   "source": [
    "def assignH(G, node, h):\n",
    "    G.node[node]['h'] = h\n",
    "\n",
    "def uSolNetwork(G):\n",
    "    N = G.number_of_nodes()\n",
    "    degs = np.array([G.degree(firm) for firm in range(N)])\n",
    "    hs = np.array([G.node[node]['h'] for node in range(N)])\n",
    "    hns = np.array([np.mean(hs[np.array(G.neighbors(i))]) for i in range(N)])\n",
    "    semiSizes = np.sum(hs*hns*degs/Lambda)\n",
    "    semiUnemps = np.sum(hs*degs)\n",
    "    return semiUnemps/(semiUnemps+semiSizes)\n",
    "\n",
    "def uSolGlobal(G):\n",
    "    return Lambda/(Lambda + np.mean([G.node[i]['h'] for i in G.nodes()]))"
   ]
  },
  {
   "cell_type": "markdown",
   "metadata": {},
   "source": [
    "## Figure 5: experiment on regular network"
   ]
  },
  {
   "cell_type": "code",
   "execution_count": 25,
   "metadata": {
    "collapsed": false
   },
   "outputs": [],
   "source": [
    "box00 = []\n",
    "box01 = []\n",
    "box02 = []\n",
    "box03 = []\n",
    "box10 = []\n",
    "box11 = []\n",
    "box12 = []\n",
    "box13 = []\n",
    "box20 = []\n",
    "box21 = []\n",
    "box22 = []\n",
    "box23 = []\n",
    "\n",
    "G = nx.random_regular_graph(4, N)\n",
    "\n",
    "for exp in range(sampleSize):\n",
    "    \n",
    "    # bell-shaped distribution of h\n",
    "    hs = st.beta.rvs(10, 10, size=N)\n",
    "    hst = [assignH(G, i, hs[i]) for i in G.nodes()]\n",
    "    box00.append(uSolGlobal(G))\n",
    "    box01.append(uSolNetwork(G))\n",
    "    hs = np.sort(hs)\n",
    "    ego = rd.choice(G.nodes())\n",
    "    neighDist = sorted(nx.single_source_shortest_path_length(G, ego).items(), key=lambda (k, v):v)\n",
    "    [assignH(G, neighDist[i][0], hs[i]) for i in range(G.number_of_nodes())]    \n",
    "    box03.append(uSolNetwork(G))\n",
    "    neighDist = sorted(nx.single_source_shortest_path_length(G, ego).items(), key=lambda (k, v):v, reverse=True)\n",
    "    [assignH(G, neighDist[i][0], hs[i]) for i in range(G.number_of_nodes())]    \n",
    "    box02.append(uSolNetwork(G)) \n",
    "    \n",
    "    # uniform distribution of h\n",
    "    hs = st.beta.rvs(1, 1, size=N)\n",
    "    hst = [assignH(G, i, hs[i]) for i in G.nodes()]\n",
    "    box10.append(uSolGlobal(G))\n",
    "    box11.append(uSolNetwork(G))\n",
    "    hs = np.sort(hs)\n",
    "    ego = rd.choice(G.nodes())\n",
    "    neighDist = sorted(nx.single_source_shortest_path_length(G, ego).items(), key=lambda (k, v):v)\n",
    "    [assignH(G, neighDist[i][0], hs[i]) for i in range(G.number_of_nodes())]    \n",
    "    box13.append(uSolNetwork(G))\n",
    "    neighDist = sorted(nx.single_source_shortest_path_length(G, ego).items(), key=lambda (k, v):v, reverse=True)\n",
    "    [assignH(G, neighDist[i][0], hs[i]) for i in range(G.number_of_nodes())]    \n",
    "    box12.append(uSolNetwork(G)) \n",
    "    \n",
    "    # U-shaped distribution of h\n",
    "    hs = st.beta.rvs(.5, .5, size=N)\n",
    "    hst = [assignH(G, i, hs[i]) for i in G.nodes()]\n",
    "    box20.append(uSolGlobal(G))\n",
    "    box21.append(uSolNetwork(G))\n",
    "    hs = np.sort(hs)\n",
    "    ego = rd.choice(G.nodes())\n",
    "    neighDist = sorted(nx.single_source_shortest_path_length(G, ego).items(), key=lambda (k, v):v)\n",
    "    [assignH(G, neighDist[i][0], hs[i]) for i in range(G.number_of_nodes())]    \n",
    "    box23.append(uSolNetwork(G))\n",
    "    neighDist = sorted(nx.single_source_shortest_path_length(G, ego).items(), key=lambda (k, v):v, reverse=True)\n",
    "    [assignH(G, neighDist[i][0], hs[i]) for i in range(G.number_of_nodes())]    \n",
    "    box22.append(uSolNetwork(G)) \n",
    "    "
   ]
  },
  {
   "cell_type": "markdown",
   "metadata": {},
   "source": [
    "## Plot results"
   ]
  },
  {
   "cell_type": "code",
   "execution_count": 26,
   "metadata": {
    "collapsed": false
   },
   "outputs": [
    {
     "data": {
      "image/png": "[encoded data removed]",
      "text/plain": [
       "<matplotlib.figure.Figure at 0x10fc5f2d0>"
      ]
     },
     "metadata": {},
     "output_type": "display_data"
    }
   ],
   "source": [
    "plt.rc('text', usetex=True)\n",
    "plt.rc('font', family='serif')\n",
    "fig, big_axes = plt.subplots(figsize=(14, 4) , nrows=1, ncols=1, sharey=True) \n",
    "\n",
    "plt.boxplot([box00, box01, box02, box03], boxprops={'color':'black'}, whiskerprops={'color':'black'}, \n",
    "            medianprops={'color':'black'}, usermedians=[np.mean(box00), np.mean(box01), np.mean(box02), \n",
    "            np.mean(box03)], showfliers=False, positions=[1, 2, 3, 4], widths=.9)\n",
    "plt.boxplot([box10, box11, box12, box13], boxprops={'color':'black'}, whiskerprops={'color':'black'}, \n",
    "            medianprops={'color':'black'}, usermedians=[np.mean(box10), np.mean(box11), np.mean(box12), \n",
    "            np.mean(box13)], showfliers=False, positions=[6, 7, 8, 9], widths=.9)\n",
    "plt.boxplot([box20, box21, box22, box23], boxprops={'color':'black'}, whiskerprops={'color':'black'}, \n",
    "            medianprops={'color':'black'}, usermedians=[np.mean(box20), np.mean(box21), np.mean(box22), \n",
    "            np.mean(box23)], showfliers=False, positions=[11, 12, 13, 14], widths=.9)\n",
    "\n",
    "plt.ylabel(r'unemployment rate $u$', fontsize = 20)\n",
    "plt.xlabel(r'assignments', fontsize = 20)\n",
    "#plt.title(r'LFN Model Under Different Assignments of $h_i$ on Regular Graphs', fontsize = 20)\n",
    "plt.axvspan(5, 10, color='grey', alpha=0.09)\n",
    "plt.axvspan(10, 20, color='grey', alpha=0.2)\n",
    "plt.xlim([0, 15])\n",
    "plt.xticks([1,2,3,4,6,7,8,9,11,12,13,14], [r'NV', r'NC', r'CH', r'FH', r'NV', r'NC', r'CH', r'FH',\n",
    "                                          r'NV', r'NC', r'CH', r'FH']);\n",
    "plt.tick_params(axis='x', which='major', labelsize=16)\n",
    "plt.tick_params(axis='y', which='major', labelsize=16)\n",
    "\n",
    "# insets\n",
    "axins = fig.add_axes([0.155,0.2,0.07,0.2])\n",
    "axins.plot(np.sort(np.linspace(.01, .99, 500)), st.beta.pdf(np.linspace(.01, .99, 500),10,10), '-k')\n",
    "plt.xticks([])\n",
    "plt.yticks([])\n",
    "plt.xlim([.01, .99])\n",
    "plt.xlabel(r'$h_i$', fontsize=16)\n",
    "plt.ylabel(r'$\\Pr(h_i)$', fontsize=16)\n",
    "\n",
    "axins = fig.add_axes([0.407,0.2,0.07,0.2])\n",
    "axins.plot(np.sort(np.linspace(.01, .99, 500)), st.beta.pdf(np.linspace(.01, .99, 500),1,1), '-k')\n",
    "plt.xticks([])\n",
    "plt.yticks([])\n",
    "plt.xlim([.01, .99])\n",
    "plt.xlabel(r'$h_i$', fontsize=16)\n",
    "plt.ylabel(r'$\\Pr(h_i)$', fontsize=16)\n",
    "\n",
    "axins = fig.add_axes([0.666,0.2,0.07,0.2])\n",
    "axins.plot(np.sort(np.linspace(.01, .99, 500)), st.beta.pdf(np.linspace(.01, .99, 500),.5,.5), '-k')\n",
    "plt.xticks([])\n",
    "plt.yticks([])\n",
    "plt.xlim([.005, .99])\n",
    "plt.xlabel(r'$h_i$', fontsize=16)\n",
    "plt.ylabel(r'$\\Pr(h_i)$', fontsize=16)"
   ]
  },
  {
   "cell_type": "markdown",
   "metadata": {},
   "source": [
    "## Figure 6: experiment on scale-free network"
   ]
  },
  {
   "cell_type": "code",
   "execution_count": 27,
   "metadata": {
    "collapsed": false
   },
   "outputs": [],
   "source": [
    "box00 = []\n",
    "box01 = []\n",
    "box02 = []\n",
    "box03 = []\n",
    "box10 = []\n",
    "box11 = []\n",
    "box12 = []\n",
    "box13 = []\n",
    "box20 = []\n",
    "box21 = []\n",
    "box22 = []\n",
    "box23 = []\n",
    "\n",
    "for exp in range(sampleSize):\n",
    "    \n",
    "    # bell-shaped distribution of h\n",
    "    hs = st.beta.rvs(10, 10, size=N)\n",
    "    G = nx.barabasi_albert_graph(N, 2)\n",
    "    hst = [assignH(G, i, hs[i]) for i in G.nodes()]\n",
    "    box00.append(uSolGlobal(G))\n",
    "    box01.append(uSolNetwork(G))\n",
    "    hs = np.sort(hs)\n",
    "    ego = rd.choice(G.nodes())\n",
    "    neighDist = sorted(nx.single_source_shortest_path_length(G, ego).items(), key=lambda (k, v):v)\n",
    "    [assignH(G, neighDist[i][0], hs[i]) for i in range(G.number_of_nodes())]    \n",
    "    box03.append(uSolNetwork(G))\n",
    "    neighDist = sorted(nx.single_source_shortest_path_length(G, ego).items(), key=lambda (k, v):v, reverse=True)\n",
    "    [assignH(G, neighDist[i][0], hs[i]) for i in range(G.number_of_nodes())]    \n",
    "    box02.append(uSolNetwork(G)) \n",
    "    \n",
    "    # uniform distribution of h\n",
    "    hs = st.beta.rvs(1, 1, size=N)\n",
    "    hst = [assignH(G, i, hs[i]) for i in G.nodes()]\n",
    "    box10.append(uSolGlobal(G))\n",
    "    box11.append(uSolNetwork(G))\n",
    "    hs = np.sort(hs)\n",
    "    ego = rd.choice(G.nodes())\n",
    "    neighDist = sorted(nx.single_source_shortest_path_length(G, ego).items(), key=lambda (k, v):v)\n",
    "    [assignH(G, neighDist[i][0], hs[i]) for i in range(G.number_of_nodes())]    \n",
    "    box13.append(uSolNetwork(G))\n",
    "    neighDist = sorted(nx.single_source_shortest_path_length(G, ego).items(), key=lambda (k, v):v, reverse=True)\n",
    "    [assignH(G, neighDist[i][0], hs[i]) for i in range(G.number_of_nodes())]    \n",
    "    box12.append(uSolNetwork(G)) \n",
    "    \n",
    "    # U-shaped distribution of h\n",
    "    hs = st.beta.rvs(.5, .5, size=N)\n",
    "    hst = [assignH(G, i, hs[i]) for i in G.nodes()]\n",
    "    box20.append(uSolGlobal(G))\n",
    "    box21.append(uSolNetwork(G))\n",
    "    hs = np.sort(hs)\n",
    "    ego = rd.choice(G.nodes())\n",
    "    neighDist = sorted(nx.single_source_shortest_path_length(G, ego).items(), key=lambda (k, v):v)\n",
    "    [assignH(G, neighDist[i][0], hs[i]) for i in range(G.number_of_nodes())]    \n",
    "    box23.append(uSolNetwork(G))\n",
    "    neighDist = sorted(nx.single_source_shortest_path_length(G, ego).items(), key=lambda (k, v):v, reverse=True)\n",
    "    [assignH(G, neighDist[i][0], hs[i]) for i in range(G.number_of_nodes())]    \n",
    "    box22.append(uSolNetwork(G)) \n",
    "\n"
   ]
  },
  {
   "cell_type": "markdown",
   "metadata": {},
   "source": [
    "## Plot results"
   ]
  },
  {
   "cell_type": "code",
   "execution_count": 28,
   "metadata": {
    "collapsed": false
   },
   "outputs": [
    {
     "data": {
      "image/png": "[encoded data removed]",
      "text/plain": [
       "<matplotlib.figure.Figure at 0x10fc8ecd0>"
      ]
     },
     "metadata": {},
     "output_type": "display_data"
    }
   ],
   "source": [
    "plt.rc('text', usetex=True)\n",
    "plt.rc('font', family='serif')\n",
    "fig, big_axes = plt.subplots(figsize=(14, 4) , nrows=1, ncols=1, sharey=True) \n",
    "\n",
    "plt.boxplot([box00, box01, box02, box03], boxprops={'color':'black'}, whiskerprops={'color':'black'}, \n",
    "            medianprops={'color':'black'}, usermedians=[np.mean(box00), np.mean(box01), np.mean(box02), \n",
    "            np.mean(box03)], showfliers=False, positions=[1, 2, 3, 4], widths=.9)\n",
    "\n",
    "plt.boxplot([box10, box11, box12, box13], boxprops={'color':'black'}, whiskerprops={'color':'black'}, \n",
    "            medianprops={'color':'black'}, usermedians=[np.mean(box10), np.mean(box11), np.mean(box12), \n",
    "            np.mean(box13)], showfliers=False, positions=[6, 7, 8, 9], widths=.9)\n",
    "plt.boxplot([box20, box21, box22, box23], boxprops={'color':'black'}, whiskerprops={'color':'black'}, \n",
    "            medianprops={'color':'black'}, usermedians=[np.mean(box20), np.mean(box21), np.mean(box22), \n",
    "            np.mean(box23)], showfliers=False, positions=[11, 12, 13, 14], widths=.9)\n",
    "\n",
    "plt.ylabel(r'unemployment rate $u$', fontsize = 20)\n",
    "plt.xlabel(r'assignments', fontsize = 20)\n",
    "#plt.title(r'LFN Model Under Different Assignments of $h_i$ on Scale-Free Networks', fontsize = 20)\n",
    "plt.axvspan(5, 10, color='grey', alpha=0.09)\n",
    "plt.axvspan(10, 20, color='grey', alpha=0.2)\n",
    "plt.xlim([0, 15])\n",
    "plt.xticks([1,2,3,4,6,7,8,9,11,12,13,14], [r'NV', r'NC', r'CH', r'FH', r'NV', r'NC', r'CH', r'FH',\n",
    "                                          r'NV', r'NC', r'CH', r'FH']);\n",
    "plt.tick_params(axis='x', which='major', labelsize=16)\n",
    "plt.tick_params(axis='y', which='major', labelsize=16)\n",
    "\n",
    "# insets\n",
    "axins = fig.add_axes([0.155,0.67,0.07,0.2])\n",
    "axins.plot(np.sort(np.linspace(.01, .99, 500)), st.beta.pdf(np.linspace(.01, .99, 500),10,10), '-k')\n",
    "plt.xticks([])\n",
    "plt.yticks([])\n",
    "plt.xlim([.01, .99])\n",
    "plt.xlabel(r'$h_i$', fontsize=16)\n",
    "plt.ylabel(r'$\\Pr(h_i)$', fontsize=16)\n",
    "\n",
    "axins = fig.add_axes([0.407,0.67,0.07,0.2])\n",
    "axins.plot(np.sort(np.linspace(.01, .99, 500)), st.beta.pdf(np.linspace(.01, .99, 500),1,1), '-k')\n",
    "plt.xticks([])\n",
    "plt.yticks([])\n",
    "plt.xlim([.01, .99])\n",
    "plt.xlabel(r'$h_i$', fontsize=16)\n",
    "plt.ylabel(r'$\\Pr(h_i)$', fontsize=16)\n",
    "\n",
    "axins = fig.add_axes([0.666,0.67,0.07,0.2])\n",
    "axins.plot(np.sort(np.linspace(.01, .99, 500)), st.beta.pdf(np.linspace(.01, .99, 500),.5,.5), '-k')\n",
    "plt.xticks([])\n",
    "plt.yticks([])\n",
    "plt.xlim([.005, .99])\n",
    "plt.xlabel(r'$h_i$', fontsize=16)\n",
    "plt.ylabel(r'$\\Pr(h_i)$', fontsize=16)\n",
    "\n",
    "plt.savefig('/Users/tequilamambo/Dropbox/sharelatex/Policy and Internet (oii)/fig-experimentsPareto.pdf', bbox_inches='tight')"
   ]
  }
 ],
 "metadata": {
  "kernelspec": {
   "display_name": "Python 2",
   "language": "python",
   "name": "python2"
  },
  "language_info": {
   "codemirror_mode": {
    "name": "ipython",
    "version": 2
   },
   "file_extension": ".py",
   "mimetype": "text/x-python",
   "name": "python",
   "nbconvert_exporter": "python",
   "pygments_lexer": "ipython2",
   "version": "2.7.11"
  }
 },
 "nbformat": 4,
 "nbformat_minor": 0
}
